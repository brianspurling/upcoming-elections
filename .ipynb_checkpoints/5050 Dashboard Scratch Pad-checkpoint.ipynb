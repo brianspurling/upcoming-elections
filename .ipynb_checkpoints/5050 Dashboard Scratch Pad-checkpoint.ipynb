{
 "cells": [
  {
   "cell_type": "code",
   "execution_count": 1,
   "metadata": {
    "collapsed": true
   },
   "outputs": [],
   "source": [
    "import requests\n",
    "import pandas as pd\n",
    "import csv\n",
    "from pprint import pprint as print\n",
    "\n",
    "from uk_election_ids.election_ids import IdBuilder"
   ]
  },
  {
   "cell_type": "code",
   "execution_count": 2,
   "metadata": {},
   "outputs": [],
   "source": [
    "# ELECTION TYPES\n",
    "url_et = 'http://elections.democracyclub.org.uk/api/election_types/'\n",
    "r_et = requests.get(url_et)\n",
    "data_et = r_et.json()\n",
    "\n",
    "electionTypes = {}\n",
    "\n",
    "for electionTypeDict in data_et['results']:\n",
    "    electionTypes[electionTypeDict['election_type']] = electionTypeDict['name']"
   ]
  },
  {
   "cell_type": "code",
   "execution_count": 3,
   "metadata": {
    "collapsed": true
   },
   "outputs": [],
   "source": [
    "# ELECTION SUBTYPES\n",
    "url_est = 'http://elections.democracyclub.org.uk/api/election_subtypes/'\n",
    "r_est = requests.get(url_est)\n",
    "data_est = r_est.json()\n",
    "df_est = pd.DataFrame(data_est['results'])"
   ]
  },
  {
   "cell_type": "code",
   "execution_count": 4,
   "metadata": {
    "collapsed": true
   },
   "outputs": [],
   "source": [
    "# ORGANISATIONS\n",
    "url_o = 'https://elections.democracyclub.org.uk/api/organisations'\n",
    "organisations = {}\n",
    "\n",
    "while url_o:\n",
    "    r_o = requests.get(url_o)\n",
    "    data_o = r_o.json()\n",
    "    for orgDict in data_o['results']:\n",
    "        organisations[orgDict['slug']] = orgDict\n",
    "    url_o = data_o['next']"
   ]
  },
  {
   "cell_type": "code",
   "execution_count": 8,
   "metadata": {},
   "outputs": [
    {
     "name": "stdout",
     "output_type": "stream",
     "text": [
      "'https://elections.democracyclub.org.uk/api/elections.json?future=1'\n",
      "'Pulled 60 elections from the Every Election API'\n"
     ]
    }
   ],
   "source": [
    "# Get all future elections data --> df_ee\n",
    "\n",
    "url_ee = 'https://elections.democracyclub.org.uk/api/elections.json?future=1'\n",
    "df_ee = pd.DataFrame()\n",
    "\n",
    "while url_ee:\n",
    "    print(url_ee)\n",
    "    res_ee = requests.get(url_ee)\n",
    "    res_ee.raise_for_status()\n",
    "    data_ee = res_ee.json()\n",
    "    df_ee_subset = pd.DataFrame(data_ee['results'])\n",
    "    df_ee = pd.concat([df_ee, df_ee_subset], ignore_index=True)\n",
    "    url_ee = data_ee['next']\n",
    "print('Pulled ' + str(len(df_ee)) + ' elections from the Every Election API')"
   ]
  },
  {
   "cell_type": "code",
   "execution_count": 11,
   "metadata": {},
   "outputs": [],
   "source": [
    "# print(df_ee.iloc[55])\n",
    "# print(df_ee.iloc[55]['division'])\n",
    "# print(df_ee.iloc[55]['election_type'])\n",
    "# print(df_ee.iloc[55]['organisation'])"
   ]
  },
  {
   "cell_type": "code",
   "execution_count": 12,
   "metadata": {
    "collapsed": true
   },
   "outputs": [],
   "source": [
    "# BUILD UP A DATASET OF BALLOTS\n",
    "\n",
    "ballots = {}\n",
    "\n",
    "for i, row in df_ee.iterrows():\n",
    "\n",
    "    # Heiarchy of election data: \n",
    "    #    Election type > [Election subtype] > [Organisation] > [Division] > [By-election] > Date polls open\n",
    "\n",
    "    # We want to create a nested dictionary that follows this hierarchy. I.e. a dictionary of election types,\n",
    "    # each containing a dictionary of organisations, each containing a dictionary of ballots (division.date_poll_opens).\n",
    "    \n",
    "    # Later on we will add a dictionary of candidates for each ballot. \n",
    "    \n",
    "    # In the election object we pulled from elections.dc, if group_type is none then we are at the bottom of \n",
    "    # the hiearchy, so we know this is a ballot (and the election_id is therefore our ballot_id)\n",
    "    \n",
    "    if row['group_type'] is None:\n",
    "        \n",
    "        # Election Type\n",
    "        electionType = row['election_type']['election_type']\n",
    "        if electionType not in ballots:\n",
    "            ballots[electionType] = {}\n",
    "        \n",
    "        # Organisation\n",
    "        organisationId = row['group']\n",
    "        if organisationId not in ballots[electionType]:\n",
    "            ballots[electionType][organisationId] = {\n",
    "                'organisation_slug': row['organisation']['slug'],  # We need this to lookup to our master list of orgs\n",
    "                'ballots': {}\n",
    "            }\n",
    "        \n",
    "        # Ballots\n",
    "        ballotId = row['election_id']\n",
    "        ballots[electionType][organisationId]['ballots'][ballotId] = {\n",
    "            'ballot_id': ballotId,\n",
    "            'ynr_election_id': organisationId,\n",
    "            'election_title': row['election_title'],\n",
    "            'election_type': electionType,\n",
    "            'election_type_name': row['election_type']['name'],\n",
    "            'elected_role': row['elected_role'],\n",
    "            'division_name': row['division']['name'],\n",
    "            'division_id': row['division']['official_identifier'],\n",
    "            'seats_total': row['division']['seats_total'],\n",
    "            'organisation_name': row['organisation']['common_name'],\n",
    "            'organisation_type': row['organisation']['organisation_type'],            \n",
    "            'organisation_subtype': row['organisation']['organisation_subtype'],\n",
    "            'poll_open_date': row['poll_open_date']\n",
    "        }"
   ]
  },
  {
   "cell_type": "code",
   "execution_count": 17,
   "metadata": {},
   "outputs": [
    {
     "name": "stdout",
     "output_type": "stream",
     "text": [
      "'https://candidates.democracyclub.org.uk/media/candidates-local.bury.2018-08-16.csv'\n",
      "'https://candidates.democracyclub.org.uk/media/candidates-local.city-of-london.2018-08-30.csv'\n",
      "'No candidates for local.city-of-london.2018-08-30'\n",
      "'https://candidates.democracyclub.org.uk/media/candidates-local.cornwall.2018-08-23.csv'\n",
      "'https://candidates.democracyclub.org.uk/media/candidates-local.cornwall.2018-08-09.csv'\n",
      "'https://candidates.democracyclub.org.uk/media/candidates-local.east-devon.2018-09-20.csv'\n",
      "'https://candidates.democracyclub.org.uk/media/candidates-local.east-hertfordshire.2018-08-23.csv'\n",
      "'No candidates for local.east-hertfordshire.2018-08-23'\n",
      "'https://candidates.democracyclub.org.uk/media/candidates-local.fife.2018-09-06.csv'\n",
      "'https://candidates.democracyclub.org.uk/media/candidates-local.fylde.2018-08-02.csv'\n",
      "'https://candidates.democracyclub.org.uk/media/candidates-local.kings-lynn-and-west-norfolk.2018-08-02.csv'\n",
      "'https://candidates.democracyclub.org.uk/media/candidates-local.merthyr-tydfil.2018-07-26.csv'\n",
      "'https://candidates.democracyclub.org.uk/media/candidates-local.new-forest.2018-07-26.csv'\n",
      "'https://candidates.democracyclub.org.uk/media/candidates-local.north-east-lincolnshire.2018-07-26.csv'\n",
      "'https://candidates.democracyclub.org.uk/media/candidates-local.north-warwickshire.2018-08-23.csv'\n",
      "'No candidates for local.north-warwickshire.2018-08-23'\n",
      "'https://candidates.democracyclub.org.uk/media/candidates-local.north-yorkshire.2018-08-16.csv'\n",
      "'https://candidates.democracyclub.org.uk/media/candidates-local.peterborough.2018-08-02.csv'\n",
      "'https://candidates.democracyclub.org.uk/media/candidates-local.plymouth.2018-07-26.csv'\n",
      "'https://candidates.democracyclub.org.uk/media/candidates-local.redditch.2019-05-02.csv'\n",
      "'https://candidates.democracyclub.org.uk/media/candidates-local.rushcliffe.2018-08-23.csv'\n",
      "'No candidates for local.rushcliffe.2018-08-23'\n",
      "'https://candidates.democracyclub.org.uk/media/candidates-local.thanet.2018-07-26.csv'\n",
      "'https://candidates.democracyclub.org.uk/media/candidates-local.torridge.2018-07-26.csv'\n",
      "'https://candidates.democracyclub.org.uk/media/candidates-local.west-lancashire.2018-07-26.csv'\n",
      "'Pulled 21 candidates from the Your Next Rep API'\n"
     ]
    }
   ],
   "source": [
    "# GET CANDIDATE DATA FOR THE ORGANISATIONS OF ALL BALLOTS\n",
    "\n",
    "# We pull candidate data from YourNextRepresentative (YNR, candidates.democracyclub.org.uk), \n",
    "# which identifies elections with the organisation ID (not the ballot ID) and a post ID, so we need to \n",
    "# call the candidates API using the organisation_id.\n",
    "# Of course, we will have multiple ballots for each organisation. So to avoid hitting the API every time, \n",
    "# we'll build up a standalone list of candidates and thus only access the API for new orgIds\n",
    "\n",
    "candidates = {}\n",
    "\n",
    "for electionType in ballots:\n",
    "    for orgId in ballots[electionType]:\n",
    "        for ballotId in ballots[electionType][orgId]['ballots']:\n",
    "            \n",
    "            ballot = ballots[electionType][orgId]['ballots'][ballotId]\n",
    "    \n",
    "            if orgId not in candidates:\n",
    "\n",
    "                candidates[orgId] = {}\n",
    "\n",
    "                url_ynr = \"https://candidates.democracyclub.org.uk/media/candidates-%s.csv\" % (orgId)\n",
    "                print(url_ynr)\n",
    "                \n",
    "                try:\n",
    "                    res_ynr = requests.get(url_ynr)\n",
    "                    res_ynr.raise_for_status()\n",
    "                    decoded_data_ynr = res_ynr.content.decode('utf-8')\n",
    "                    data_ynr = list(csv.DictReader(decoded_data_ynr.splitlines(), delimiter=','))\n",
    "                    print('Pulled ' + str(len(data_ynr)) + ' candates for ' + orgId)\n",
    "                    for candidate_ynr in data_ynr:\n",
    "                        candidates[orgId][candidate_ynr['id']] = dict(candidate_ynr)\n",
    "                except requests.exceptions.HTTPError:\n",
    "                    print('No candidates for ' + orgId)\n",
    "\n",
    "print('Pulled ' + str(len(candidates)) + ' candidates from the Your Next Rep API')"
   ]
  },
  {
   "cell_type": "code",
   "execution_count": null,
   "metadata": {
    "collapsed": true
   },
   "outputs": [],
   "source": [
    "# LINK CANDIDATE DATA TO BALLOTS\n",
    "\n",
    "matchedCandidates = []\n",
    "\n",
    "for electionType in ballots:\n",
    "    for orgId in ballots[electionType]:\n",
    "        for ballotId in ballots[electionType][orgId]['ballots']:  \n",
    "            ballot = ballots[electionType][orgId]['ballots'][ballotId]\n",
    "            ballot['candidates'] = {}\n",
    "            orgCandidates = candidates[orgId]\n",
    "            for candidateId in orgCandidates:\n",
    "                if ballot['division_name'] == orgCandidates[candidateId]['post_label']:\n",
    "                    ballot['candidates'][candidateId] = orgCandidates[candidateId]\n",
    "                    matchedCandidates.append(candidateId)"
   ]
  },
  {
   "cell_type": "code",
   "execution_count": null,
   "metadata": {},
   "outputs": [],
   "source": [
    "# PRINT OUT A LIST OF ELECTIONS\n",
    "\n",
    "for electionType in ballots:\n",
    "    \n",
    "    print('')\n",
    "    print(electionTypes[electionType])\n",
    "    \n",
    "    for orgId in ballots[electionType]:\n",
    "\n",
    "        # Our master list of organistions is keyed with the org slug, which we have saved in our ballot record\n",
    "        # So use this to lookup the election name from the organisation master data\n",
    "        print('')\n",
    "        print(organisations[ballots[electionType][orgId]['organisation_slug']]['election_name'])\n",
    "\n",
    "        for ballotId in ballots[electionType][orgId]['ballots']:   \n",
    "            \n",
    "            ballot = ballots[electionType][orgId]['ballots'][ballotId]\n",
    "            \n",
    "            seatsCount = str(ballot['seats_total'])\n",
    "            plural = ''\n",
    "            if  ballot['seats_total'] is None:\n",
    "                seatsCount = '[unknown number of]'\n",
    "                plural = 's'\n",
    "            elif int(ballot['seats_total']) > 1:\n",
    "                plural = 's'\n",
    "\n",
    "            print('  - ' + \n",
    "                  ballot['election_type_name'] + ' for ' + \n",
    "                  seatsCount + ' ' + \n",
    "                  ballot['elected_role'] + plural + ' in ' + \n",
    "                  ballot['organisation_name'] + \"'s \" + \n",
    "                  ballot['division_name'] + ' division, on ' +  \n",
    "                  str(ballot['poll_open_date']))"
   ]
  },
  {
   "cell_type": "code",
   "execution_count": null,
   "metadata": {
    "collapsed": true
   },
   "outputs": [],
   "source": [
    "df_can.iloc[100]\n",
    "myid = IdBuilder('local', date(2018, 5, 3))\\\n",
    "...     .with_organisation('Test Org')\\\n",
    "...     .with_division('Test Division')\n",
    "# IdBuilder will deal with slugging strings for us\n",
    ">>> myid.ballot_id\n",
    "'local.test-org.test-division.2018-05-03'\n",
    ">>> myid.ids\n",
    "[\n",
    "    'local.2018-05-03',\n",
    "    'local.test-org.2018-05-03',\n",
    "    'local.test-org.test-division.2018-05-03'\n",
    "]\n"
   ]
  },
  {
   "cell_type": "code",
   "execution_count": null,
   "metadata": {
    "collapsed": true
   },
   "outputs": [],
   "source": [
    "# YOURNEXTREP\n",
    "# url_ynr = 'http://mapit.mysociety.org/postcode/SW1A1AA'\n",
    "# r_ynr = requests.get(url_ynr)\n",
    "# data_ynr = r_ynr.json()\n",
    "# df_ynr = pd.DataFrame(data_ynr['areas'])\n",
    "# print(df_ynr)"
   ]
  },
  {
   "cell_type": "code",
   "execution_count": null,
   "metadata": {
    "collapsed": true
   },
   "outputs": [],
   "source": [
    "# print(df_e.shape)\n",
    "# print(df_e.iloc[0])"
   ]
  },
  {
   "cell_type": "code",
   "execution_count": null,
   "metadata": {},
   "outputs": [],
   "source": [
    "df_can = pd.read_csv('candidates-all.csv')\n",
    "print(df_can.iloc[100])"
   ]
  },
  {
   "cell_type": "code",
   "execution_count": null,
   "metadata": {
    "collapsed": true
   },
   "outputs": [],
   "source": [
    "    "
   ]
  }
 ],
 "metadata": {
  "kernelspec": {
   "display_name": "Python 3",
   "language": "python",
   "name": "python3"
  },
  "language_info": {
   "codemirror_mode": {
    "name": "ipython",
    "version": 3
   },
   "file_extension": ".py",
   "mimetype": "text/x-python",
   "name": "python",
   "nbconvert_exporter": "python",
   "pygments_lexer": "ipython3",
   "version": "3.6.3"
  }
 },
 "nbformat": 4,
 "nbformat_minor": 2
}
